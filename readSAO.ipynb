{
 "cells": [
  {
   "cell_type": "code",
   "execution_count": 1,
   "metadata": {},
   "outputs": [],
   "source": [
    "import numpy as np\n",
    "import pandas as pd\n",
    "\n",
    "import os\n",
    "import glob\n",
    "from datetime import datetime"
   ]
  },
  {
   "cell_type": "code",
   "execution_count": 2,
   "metadata": {},
   "outputs": [],
   "source": [
    "# 1개 sao 파일을 열어서 내용 읽고 데이터프레임으로 변환하는 함수\n",
    "# 참조 - https://stackabuse.com/read-a-file-line-by-line-in-python/\n",
    "def getData(FILENAME):\n",
    "    with open(FILENAME) as fp:\n",
    "        # 파일 내용 한줄씩 읽기\n",
    "        line = fp.readline()\n",
    "        \n",
    "        cnt = 0\n",
    "        check = []\n",
    "        lines = []\n",
    "        \n",
    "        while line:           \n",
    "            # line 내용이 공백없이 연속되고, 시작글자가 FF인 라인을 찾아 check에 인덱스 저장\n",
    "            if (len(line.strip().split()) == 1) & (line.strip().split()[0][:2] == 'FF'):\n",
    "                check.append(cnt)\n",
    "            \n",
    "            # 파일 내용 lines에 한줄씩 저장\n",
    "            lines.append(line)\n",
    "            \n",
    "            line = fp.readline()\n",
    "            cnt += 1\n",
    "    \n",
    "    # 데이터를 담을 딕셔너리\n",
    "    data_dict = {\n",
    "        'Time' : [],\n",
    "        'Receiver' : [],\n",
    "        'Transmitter' : [],\n",
    "        'foF2' : [],\n",
    "        'hmF2' : [],\n",
    "        'Confidence level' : []\n",
    "    }\n",
    "\n",
    "    # check에 저장된 인덱스로 lines에서 데이터 추출\n",
    "    for idx in check:\n",
    "\n",
    "        # 1. 시간 데이터\n",
    "        a1 = int(lines[idx][2:6].strip())\n",
    "        a2 = int(lines[idx][9:11].strip())\n",
    "        a3 = int(lines[idx][11:13].strip())\n",
    "        a4 = int(lines[idx][13:15].strip())\n",
    "        a5 = int(lines[idx][15:17].strip())\n",
    "        a6 = int(lines[idx][17:19].strip())\n",
    "        data1 = datetime(a1, a2, a3, a4, a5, a6)        \n",
    "        \n",
    "        # 2. 송신기\n",
    "        data2 = int(lines[idx][19:22].strip())\n",
    "        \n",
    "        # 3. 수신기\n",
    "        data3 = int(lines[idx][22:25].strip())\n",
    "        \n",
    "        # 4. foF2\n",
    "        data4 = float(lines[idx+1][:8].strip())\n",
    "        \n",
    "        # 5. hmF2\n",
    "        data5 = float(lines[idx+3][8:16].strip())\n",
    "        \n",
    "        # 6. confidence level\n",
    "        data6 = int(lines[idx+5][18:20].strip())\n",
    "\n",
    "        # 딕셔너리에 추출한 여섯가지 데이터 저장\n",
    "        data_dict['Time'].append(data1)\n",
    "        data_dict['Receiver'].append(data2)\n",
    "        data_dict['Transmitter'].append(data3)\n",
    "        data_dict['foF2'].append(data4)\n",
    "        data_dict['hmF2'].append(data5)\n",
    "        data_dict['Confidence level'].append(data6)\n",
    "\n",
    "    # 딕셔너리를 데이터프레임(시계열)으로 변환하고 시간순으로 정렬\n",
    "    df = pd.DataFrame(data_dict)\n",
    "    df = df.sort_values('Time')\n",
    "        \n",
    "    return df"
   ]
  },
  {
   "cell_type": "code",
   "execution_count": 3,
   "metadata": {},
   "outputs": [],
   "source": [
    "# 폴더명을 받아 하위 sao 파일을 차례로 읽으면서 데이터프레임으로 합치는 함수\n",
    "def getCombinedData(FORDER_NAME):\n",
    "    \n",
    "    # 입력 받은 폴더의 하위 파일명 리스트\n",
    "    FILE_LIST = os.listdir(FORDER_NAME)\n",
    "    \n",
    "    # 데이터프레임 생성\n",
    "    df = pd.DataFrame()\n",
    "    # 파일명 리스트로부터 파일명을 하나씩 읽어 getData함수에 입력\n",
    "    for FILE_NAME in FILE_LIST:\n",
    "        \n",
    "        FILE_NAME = FORDER_NAME + \"/\" + FILE_NAME\n",
    "    \n",
    "        # 입력된 파일명으로부터 데이터가 담긴 데이터프레임(시계열) 반환\n",
    "        df_new = getData(FILE_NAME)\n",
    "        \n",
    "        # 기존 데이터프레임에 새로 반환된 데이터프레임 합치기\n",
    "        df = pd.concat((df, df_new), axis=0)\n",
    "        \n",
    "    # 합쳐진 데이터프레임 csv 파일로 저장    \n",
    "    SAVE_PATH = 'data/'\n",
    "    SAVE_NAME = FORDER_NAME.split('/')[-1].replace('SAO', '')\n",
    "    df.to_csv(f'{SAVE_PATH}{SAVE_NAME}.csv', encoding='utf-8-sig', index=False)\n",
    "\n",
    "    return df"
   ]
  },
  {
   "cell_type": "code",
   "execution_count": 4,
   "metadata": {},
   "outputs": [
    {
     "name": "stdout",
     "output_type": "stream",
     "text": [
      "data/ionosonde/JJ433SAO_2009 완료\n"
     ]
    }
   ],
   "source": [
    "STATION_CODE = 'JJ433'\n",
    "PATH = f\"data/ionosonde/{STATION_CODE}*\"\n",
    "\n",
    "FORDER_LIST = glob.glob(PATH)\n",
    "for FORDER_NAME in FORDER_LIST:\n",
    "    FORDER_NAME = FORDER_NAME.replace('\\\\','/')\n",
    "    getCombinedData(FORDER_NAME)\n",
    "    print(f'{FORDER_NAME} 완료')\n",
    "    break"
   ]
  },
  {
   "cell_type": "code",
   "execution_count": null,
   "metadata": {},
   "outputs": [],
   "source": []
  }
 ],
 "metadata": {
  "kernelspec": {
   "display_name": "Python 3",
   "language": "python",
   "name": "python3"
  },
  "language_info": {
   "codemirror_mode": {
    "name": "ipython",
    "version": 3
   },
   "file_extension": ".py",
   "mimetype": "text/x-python",
   "name": "python",
   "nbconvert_exporter": "python",
   "pygments_lexer": "ipython3",
   "version": "3.8.5"
  }
 },
 "nbformat": 4,
 "nbformat_minor": 4
}
